{
 "cells": [
  {
   "cell_type": "markdown",
   "id": "7fcc0806",
   "metadata": {},
   "source": [
    "Exercici 1: Enters\n"
   ]
  },
  {
   "cell_type": "markdown",
   "id": "1d4d22e5",
   "metadata": {},
   "source": []
  },
  {
   "cell_type": "code",
   "execution_count": null,
   "id": "3a57be06",
   "metadata": {},
   "outputs": [],
   "source": [
    "preu_entrada = 8.35\n",
    "nombre_entades = 1\n"
   ]
  },
  {
   "cell_type": "code",
   "execution_count": 35,
   "id": "0cfb601f",
   "metadata": {},
   "outputs": [],
   "source": [
    "cost_total = preu_entrada * nombre_entades"
   ]
  },
  {
   "cell_type": "code",
   "execution_count": 36,
   "id": "961932d3",
   "metadata": {},
   "outputs": [
    {
     "data": {
      "text/plain": [
       "8.35"
      ]
     },
     "execution_count": 36,
     "metadata": {},
     "output_type": "execute_result"
    }
   ],
   "source": [
    "nombre_entades = 1\n",
    "preu_entrada = 8.35\n",
    "cost_total\n"
   ]
  },
  {
   "cell_type": "code",
   "execution_count": 40,
   "id": "5f96c797",
   "metadata": {},
   "outputs": [
    {
     "name": "stdout",
     "output_type": "stream",
     "text": [
      "41.75\n"
     ]
    }
   ],
   "source": [
    "nombre_entades5 = 5\n",
    "cost_total = preu_entrada * nombre_entades5\n",
    "print(cost_total)"
   ]
  },
  {
   "cell_type": "code",
   "execution_count": 41,
   "id": "c22635d6",
   "metadata": {},
   "outputs": [
    {
     "name": "stdout",
     "output_type": "stream",
     "text": [
      "2955.9\n"
     ]
    }
   ],
   "source": [
    "nombre_entrades354 = 354\n",
    "cost_total = preu_entrada * nombre_entrades354\n",
    "print(cost_total)"
   ]
  },
  {
   "cell_type": "code",
   "execution_count": 42,
   "id": "19d5d4d7",
   "metadata": {},
   "outputs": [],
   "source": [
    "nombre_entrades_retornades = 4\n",
    "nombre_entrades10 = 10\n",
    "preu_entrada = 8.35\n",
    "percentatge = (preu_entrada * (nombre_entrades10 - nombre_entrades_retornades)) + ((nombre_entrades_retornades * preu_entrada) * 88) / 100"
   ]
  },
  {
   "cell_type": "code",
   "execution_count": 44,
   "id": "b5bd4cc8",
   "metadata": {},
   "outputs": [
    {
     "name": "stdout",
     "output_type": "stream",
     "text": [
      "79.49199999999999\n"
     ]
    }
   ],
   "source": [
    "cost_total = percentatge\n",
    "print(cost_total)"
   ]
  },
  {
   "cell_type": "markdown",
   "id": "099abaae",
   "metadata": {},
   "source": [
    "Exercici 2"
   ]
  },
  {
   "cell_type": "code",
   "execution_count": 45,
   "id": "e3481482",
   "metadata": {},
   "outputs": [],
   "source": [
    "poblacio = 1000\n",
    "infectats_inicials = 10\n",
    "taxa_contagi = 0.01\n",
    "dies = 5\n",
    "nombre_totalinfectats = 0"
   ]
  },
  {
   "cell_type": "code",
   "execution_count": 47,
   "id": "0e13ef15",
   "metadata": {},
   "outputs": [
    {
     "name": "stdout",
     "output_type": "stream",
     "text": [
      "58.51985059900009\n"
     ]
    }
   ],
   "source": [
    "nombre_totalinfectats = infectats_inicials + (poblacio - infectats_inicials)*(1-(1-taxa_contagi)**dies)\n",
    "print(nombre_totalinfectats)"
   ]
  },
  {
   "cell_type": "markdown",
   "id": "85594921",
   "metadata": {},
   "source": [
    "Exercici 3"
   ]
  },
  {
   "cell_type": "code",
   "execution_count": 70,
   "id": "ed646f10",
   "metadata": {},
   "outputs": [],
   "source": [
    "pi = 3.1415926535897932\n",
    "r = 2\n",
    "p = 2*pi*r\n",
    "a = pi*r**2\n",
    "v = 4/3*pi*r**3"
   ]
  },
  {
   "cell_type": "code",
   "execution_count": 59,
   "id": "a4f7be0f",
   "metadata": {},
   "outputs": [
    {
     "name": "stdout",
     "output_type": "stream",
     "text": [
      "Pel radi 2, el perímetre és 12.566370614359172m, l'àrea és 12.566370614359172m2, i el volum és 33.5103216382911243\n"
     ]
    }
   ],
   "source": [
    "print(f\"Pel radi {r}, el perímetre és {p}m, l'àrea és {a}m2, i el volum és {v}3\")\n"
   ]
  },
  {
   "cell_type": "code",
   "execution_count": 71,
   "id": "fa533e0c",
   "metadata": {},
   "outputs": [],
   "source": [
    "pi = 3.1415926535897932\n",
    "r = 4\n",
    "p = 2*pi*r\n",
    "a = pi*r**2\n",
    "v = 4/3*pi*r**3"
   ]
  },
  {
   "cell_type": "code",
   "execution_count": 72,
   "id": "540aa0b2",
   "metadata": {},
   "outputs": [
    {
     "name": "stdout",
     "output_type": "stream",
     "text": [
      "Pel radi 4, el perímetre és 25.132741228718345m, l'àrea és 50.26548245743669m2, i el volum és 268.0825731063293\n"
     ]
    }
   ],
   "source": [
    "print(f\"Pel radi {r}, el perímetre és {p}m, l'àrea és {a}m2, i el volum és {v}3\")"
   ]
  },
  {
   "cell_type": "markdown",
   "id": "177967d3",
   "metadata": {},
   "source": [
    "Exercici 4"
   ]
  },
  {
   "cell_type": "code",
   "execution_count": 74,
   "id": "59ccd00c",
   "metadata": {},
   "outputs": [],
   "source": [
    "nom = \"Bernat Ortega\"\n",
    "primera_lletra = nom[0]\n",
    "ultima_lletra = nom[-1]\n",
    "tres_lletres = nom[2:5]\n",
    "nom_M = str.upper(nom)\n",
    "nom_m = str.lower(nom)\n",
    "llargada_nom = len(nom)"
   ]
  },
  {
   "cell_type": "code",
   "execution_count": 77,
   "id": "e0f9c42b",
   "metadata": {},
   "outputs": [
    {
     "name": "stdout",
     "output_type": "stream",
     "text": [
      "Hola, el meu nom és Bernat Ortega. La primera lletra del meu non és B. \n",
      " L'utima lletra del meu no és a. \n",
      " Els tres caràcters entre la posició 2 i la posició 5 són: rna. \n",
      " El meu nom en majúscules es vewi així: BERNAT ORTEGA. \n",
      " El meu nom en minúscules es veu així: bernat ortega. \n"
     ]
    }
   ],
   "source": [
    "print(f\"Hola, el meu nom és {nom}. La primera lletra del meu non és {primera_lletra}. \\n L'utima lletra del meu no és {ultima_lletra}. \\n Els tres caràcters entre la posició 2 i la posició 5 són: {tres_lletres}. \\n El meu nom en majúscules es vewi així: {nom_M}. \\n El meu nom en minúscules es veu així: {nom_m}. \")"
   ]
  },
  {
   "cell_type": "code",
   "execution_count": null,
   "id": "2dede2d7",
   "metadata": {},
   "outputs": [],
   "source": []
  }
 ],
 "metadata": {
  "kernelspec": {
   "display_name": "Python 3",
   "language": "python",
   "name": "python3"
  },
  "language_info": {
   "codemirror_mode": {
    "name": "ipython",
    "version": 3
   },
   "file_extension": ".py",
   "mimetype": "text/x-python",
   "name": "python",
   "nbconvert_exporter": "python",
   "pygments_lexer": "ipython3",
   "version": "3.13.7"
  }
 },
 "nbformat": 4,
 "nbformat_minor": 5
}
